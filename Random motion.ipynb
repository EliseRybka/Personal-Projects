{
 "cells": [
  {
   "cell_type": "code",
   "execution_count": 1,
   "metadata": {},
   "outputs": [],
   "source": [
    "import numpy as np"
   ]
  },
  {
   "cell_type": "code",
   "execution_count": 2,
   "metadata": {},
   "outputs": [],
   "source": [
    "import matplotlib.pyplot as plt\n",
    "%matplotlib inline \n",
    "import time \n",
    "from IPython import display "
   ]
  },
  {
   "cell_type": "code",
   "execution_count": 3,
   "metadata": {},
   "outputs": [],
   "source": [
    "class particle:\n",
    "    \"\"\"docstring\"\"\"\n",
    " \n",
    "    def __init__(self, x_len, y_len, dt):\n",
    "        \"\"\"Constructor\"\"\"\n",
    "        x = np.random.random() * x_len\n",
    "        y = np.random.random() * y_len\n",
    "        vx = (np.random.random() - 0.5) / dt\n",
    "        vy = (np.random.random() - 0.5) / dt\n",
    "        self.pos = np.array([x,y])\n",
    "        self.vel = np.array([vx,vy])\n",
    "        \n",
    "    def __str__(self):\n",
    "        return 'Position: ' + str(self.pos) + '\\n' + 'Velocity: ' + str(self.vel) + '\\n'"
   ]
  },
  {
   "cell_type": "code",
   "execution_count": 4,
   "metadata": {},
   "outputs": [],
   "source": [
    "def len_vec(v):\n",
    "    return np.sqrt(sum(v**2))"
   ]
  },
  {
   "cell_type": "code",
   "execution_count": 5,
   "metadata": {},
   "outputs": [],
   "source": [
    "def collide(a, b):\n",
    "    collision = a.pos - b.pos\n",
    "    distance = len_vec(collision)\n",
    "    \n",
    "    if (distance == 0.0):\n",
    "        collision = np.array([1.0, 0.0])\n",
    "        distance = 1.0\n",
    "    \n",
    "    collision = collision / distance\n",
    "    aci = np.dot(a.vel, collision)\n",
    "    bci = np.dot(b.vel, collision)\n",
    "    \n",
    "    acf = bci\n",
    "    bcf = aci\n",
    " \n",
    "    a.vel += (acf - aci) * collision\n",
    "    b.vel += (bcf - bci) * collision\n",
    "    \n",
    "    return"
   ]
  },
  {
   "cell_type": "code",
   "execution_count": 6,
   "metadata": {},
   "outputs": [],
   "source": [
    "def move(p, x_len, y_len):\n",
    "    \n",
    "    p.pos += p.vel\n",
    "    \n",
    "    if p.pos[0] > x_len or p.pos[0] < 0:\n",
    "        p.vel[0] *= -1\n",
    "        p.pos[0] += 2 * p.vel[0]\n",
    "        \n",
    "    if p.pos[1] > y_len or p.pos[1] < 0:\n",
    "        p.vel[1] *= -1\n",
    "        p.pos[1] += 2 * p.vel[1]\n",
    "        \n",
    "    return"
   ]
  },
  {
   "cell_type": "code",
   "execution_count": 7,
   "metadata": {},
   "outputs": [],
   "source": [
    "fx = np.vectorize(lambda p: p.pos[0])\n",
    "fy = np.vectorize(lambda p: p.pos[1])"
   ]
  },
  {
   "cell_type": "code",
   "execution_count": 8,
   "metadata": {},
   "outputs": [],
   "source": [
    "def motion(N, time_total, x_len, y_len, dt, rad_inter):\n",
    "    \n",
    "    prts = [particle(x_len, y_len, dt) for i in range(N)]\n",
    "    \n",
    "    plt.figure(figsize=(x_len, y_len))\n",
    "    \n",
    "    for t in range(time_total):\n",
    "        plt.clf()\n",
    "        axes = plt.gca()\n",
    "        axes.set_xlim([0, x_len])\n",
    "        axes.set_ylim([0, y_len])        \n",
    "        \n",
    "        for i in range(N):\n",
    "            for j in range(i+1, N):\n",
    "                if len_vec(prts[i].pos - prts[j].pos) < rad_inter:\n",
    "                    collide(prts[i], prts[j])\n",
    "        \n",
    "        for p in prts:\n",
    "            move(p, x_len, y_len)\n",
    "            \n",
    "        plt.plot(fx(prts), fy(prts), '.', c='k')\n",
    "    \n",
    "        display.display(plt.gcf()) \n",
    "        display.clear_output(wait=True) \n",
    "    return"
   ]
  },
  {
   "cell_type": "code",
   "execution_count": null,
   "metadata": {},
   "outputs": [],
   "source": []
  },
  {
   "cell_type": "code",
   "execution_count": 9,
   "metadata": {
    "scrolled": false
   },
   "outputs": [
    {
     "data": {
      "image/png": "[encoded data removed]",
      "text/plain": [
       "<Figure size 360x720 with 1 Axes>"
      ]
     },
     "metadata": {},
     "output_type": "display_data"
    }
   ],
   "source": [
    "motion(N=2, time_total=100, x_len=5, y_len=10, dt=1, rad_inter=1)"
   ]
  }
 ],
 "metadata": {
  "kernelspec": {
   "display_name": "Python 3",
   "language": "python",
   "name": "python3"
  },
  "language_info": {
   "codemirror_mode": {
    "name": "ipython",
    "version": 3
   },
   "file_extension": ".py",
   "mimetype": "text/x-python",
   "name": "python",
   "nbconvert_exporter": "python",
   "pygments_lexer": "ipython3",
   "version": "3.6.5"
  }
 },
 "nbformat": 4,
 "nbformat_minor": 2
}
